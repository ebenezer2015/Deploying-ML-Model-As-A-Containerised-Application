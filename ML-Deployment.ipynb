{
 "cells": [
  {
   "cell_type": "code",
   "execution_count": 1,
   "id": "7802ea0b-b719-4a54-8d20-60401646a41c",
   "metadata": {},
   "outputs": [],
   "source": [
    "import seaborn as sns\n",
    "import pandas as pd\n",
    "from sklearn.model_selection import train_test_split, cross_val_score\n",
    "from sklearn.preprocessing import LabelEncoder, OneHotEncoder\n",
    "from sklearn.linear_model import LinearRegression, Ridge, Lasso\n",
    "from sklearn.ensemble import RandomForestRegressor, GradientBoostingRegressor\n",
    "from sklearn.metrics import mean_squared_error, mean_absolute_error, r2_score\n",
    "import pickle"
   ]
  },
  {
   "cell_type": "code",
   "execution_count": 2,
   "id": "dbca5e53-5062-4d8a-87d1-24246309cf01",
   "metadata": {},
   "outputs": [],
   "source": [
    "def r_squared(y, y_hat):\n",
    "    y_bar = y.mean()\n",
    "    ss_tot = ((y-y_bar)**2).sum()\n",
    "    ss_res = ((y-y_hat)**2).sum()\n",
    "    return 1 - (ss_res/ss_tot)\n",
    "\n",
    "def train_and_evaluate_(model, X_train, y_train, X_test, y_test, cv=5):\n",
    "    model.fit(X_train, y_train)\n",
    "    y_pred = model.predict(X_test)\n",
    "    mse = mean_squared_error(y_test, y_pred)\n",
    "    mae = mean_absolute_error(y_test, y_pred)\n",
    "    r2 = r_squared(y_test, y_pred)\n",
    "    cv_scores = cross_val_score(model, X_train, y_train, cv=cv, scoring='neg_mean_squared_error')\n",
    "    cv_mse = -cv_scores.mean()\n",
    "\n",
    "    return mse, cv_mse, mae, r2"
   ]
  },
  {
   "cell_type": "code",
   "execution_count": 3,
   "id": "973851be-6bd3-4ec9-966e-143031894bde",
   "metadata": {},
   "outputs": [
    {
     "data": {
      "text/html": [
       "<div>\n",
       "<style scoped>\n",
       "    .dataframe tbody tr th:only-of-type {\n",
       "        vertical-align: middle;\n",
       "    }\n",
       "\n",
       "    .dataframe tbody tr th {\n",
       "        vertical-align: top;\n",
       "    }\n",
       "\n",
       "    .dataframe thead th {\n",
       "        text-align: right;\n",
       "    }\n",
       "</style>\n",
       "<table border=\"1\" class=\"dataframe\">\n",
       "  <thead>\n",
       "    <tr style=\"text-align: right;\">\n",
       "      <th></th>\n",
       "      <th>longitude</th>\n",
       "      <th>latitude</th>\n",
       "      <th>housing_median_age</th>\n",
       "      <th>total_rooms</th>\n",
       "      <th>total_bedrooms</th>\n",
       "      <th>population</th>\n",
       "      <th>households</th>\n",
       "      <th>median_income</th>\n",
       "      <th>median_house_value</th>\n",
       "      <th>ocean_proximity</th>\n",
       "    </tr>\n",
       "  </thead>\n",
       "  <tbody>\n",
       "    <tr>\n",
       "      <th>0</th>\n",
       "      <td>-122.23</td>\n",
       "      <td>37.88</td>\n",
       "      <td>41.0</td>\n",
       "      <td>880.0</td>\n",
       "      <td>129.0</td>\n",
       "      <td>322.0</td>\n",
       "      <td>126.0</td>\n",
       "      <td>8.3252</td>\n",
       "      <td>452600.0</td>\n",
       "      <td>NEAR BAY</td>\n",
       "    </tr>\n",
       "    <tr>\n",
       "      <th>1</th>\n",
       "      <td>-122.22</td>\n",
       "      <td>37.86</td>\n",
       "      <td>21.0</td>\n",
       "      <td>7099.0</td>\n",
       "      <td>1106.0</td>\n",
       "      <td>2401.0</td>\n",
       "      <td>1138.0</td>\n",
       "      <td>8.3014</td>\n",
       "      <td>358500.0</td>\n",
       "      <td>NEAR BAY</td>\n",
       "    </tr>\n",
       "    <tr>\n",
       "      <th>2</th>\n",
       "      <td>-122.24</td>\n",
       "      <td>37.85</td>\n",
       "      <td>52.0</td>\n",
       "      <td>1467.0</td>\n",
       "      <td>190.0</td>\n",
       "      <td>496.0</td>\n",
       "      <td>177.0</td>\n",
       "      <td>7.2574</td>\n",
       "      <td>352100.0</td>\n",
       "      <td>NEAR BAY</td>\n",
       "    </tr>\n",
       "    <tr>\n",
       "      <th>3</th>\n",
       "      <td>-122.25</td>\n",
       "      <td>37.85</td>\n",
       "      <td>52.0</td>\n",
       "      <td>1274.0</td>\n",
       "      <td>235.0</td>\n",
       "      <td>558.0</td>\n",
       "      <td>219.0</td>\n",
       "      <td>5.6431</td>\n",
       "      <td>341300.0</td>\n",
       "      <td>NEAR BAY</td>\n",
       "    </tr>\n",
       "    <tr>\n",
       "      <th>4</th>\n",
       "      <td>-122.25</td>\n",
       "      <td>37.85</td>\n",
       "      <td>52.0</td>\n",
       "      <td>1627.0</td>\n",
       "      <td>280.0</td>\n",
       "      <td>565.0</td>\n",
       "      <td>259.0</td>\n",
       "      <td>3.8462</td>\n",
       "      <td>342200.0</td>\n",
       "      <td>NEAR BAY</td>\n",
       "    </tr>\n",
       "  </tbody>\n",
       "</table>\n",
       "</div>"
      ],
      "text/plain": [
       "   longitude  latitude  housing_median_age  total_rooms  total_bedrooms  \\\n",
       "0    -122.23     37.88                41.0        880.0           129.0   \n",
       "1    -122.22     37.86                21.0       7099.0          1106.0   \n",
       "2    -122.24     37.85                52.0       1467.0           190.0   \n",
       "3    -122.25     37.85                52.0       1274.0           235.0   \n",
       "4    -122.25     37.85                52.0       1627.0           280.0   \n",
       "\n",
       "   population  households  median_income  median_house_value ocean_proximity  \n",
       "0       322.0       126.0         8.3252            452600.0        NEAR BAY  \n",
       "1      2401.0      1138.0         8.3014            358500.0        NEAR BAY  \n",
       "2       496.0       177.0         7.2574            352100.0        NEAR BAY  \n",
       "3       558.0       219.0         5.6431            341300.0        NEAR BAY  \n",
       "4       565.0       259.0         3.8462            342200.0        NEAR BAY  "
      ]
     },
     "execution_count": 3,
     "metadata": {},
     "output_type": "execute_result"
    }
   ],
   "source": [
    "df = pd.read_csv(\"../Machine-Learning-Model-Analysis/Regression-Modelling/california-housing-prices.csv\")\n",
    "# Print the first few rows\n",
    "df.head()"
   ]
  },
  {
   "cell_type": "code",
   "execution_count": 4,
   "id": "61223ec1-8ad1-455e-b1fb-4ab877041f2f",
   "metadata": {},
   "outputs": [
    {
     "name": "stdout",
     "output_type": "stream",
     "text": [
      "<class 'pandas.core.frame.DataFrame'>\n",
      "RangeIndex: 20640 entries, 0 to 20639\n",
      "Data columns (total 10 columns):\n",
      " #   Column              Non-Null Count  Dtype  \n",
      "---  ------              --------------  -----  \n",
      " 0   longitude           20640 non-null  float64\n",
      " 1   latitude            20640 non-null  float64\n",
      " 2   housing_median_age  20640 non-null  float64\n",
      " 3   total_rooms         20640 non-null  float64\n",
      " 4   total_bedrooms      20433 non-null  float64\n",
      " 5   population          20640 non-null  float64\n",
      " 6   households          20640 non-null  float64\n",
      " 7   median_income       20640 non-null  float64\n",
      " 8   median_house_value  20640 non-null  float64\n",
      " 9   ocean_proximity     20640 non-null  object \n",
      "dtypes: float64(9), object(1)\n",
      "memory usage: 1.6+ MB\n"
     ]
    }
   ],
   "source": [
    "df.info()"
   ]
  },
  {
   "cell_type": "code",
   "execution_count": 5,
   "id": "b8857244-7316-4b6f-ab0f-3542a3439031",
   "metadata": {},
   "outputs": [
    {
     "data": {
      "text/plain": [
       "longitude               0\n",
       "latitude                0\n",
       "housing_median_age      0\n",
       "total_rooms             0\n",
       "total_bedrooms        207\n",
       "population              0\n",
       "households              0\n",
       "median_income           0\n",
       "median_house_value      0\n",
       "ocean_proximity         0\n",
       "dtype: int64"
      ]
     },
     "execution_count": 5,
     "metadata": {},
     "output_type": "execute_result"
    }
   ],
   "source": [
    "df.apply(lambda x: sum(x.isnull()))"
   ]
  },
  {
   "cell_type": "code",
   "execution_count": 6,
   "id": "617df29e-aa71-4d64-a68d-b7f20c349232",
   "metadata": {},
   "outputs": [
    {
     "data": {
      "text/plain": [
       "longitude             0\n",
       "latitude              0\n",
       "housing_median_age    0\n",
       "total_rooms           0\n",
       "total_bedrooms        0\n",
       "population            0\n",
       "households            0\n",
       "median_income         0\n",
       "median_house_value    0\n",
       "ocean_proximity       0\n",
       "dtype: int64"
      ]
     },
     "execution_count": 6,
     "metadata": {},
     "output_type": "execute_result"
    }
   ],
   "source": [
    "#drop missing columns\n",
    "df = df.dropna(subset=df.columns)\n",
    "df.apply(lambda x: sum(x.isnull()))"
   ]
  },
  {
   "cell_type": "code",
   "execution_count": 7,
   "id": "81b00aff-ce23-4e0d-9eff-ffcba53c706e",
   "metadata": {},
   "outputs": [
    {
     "data": {
      "text/plain": [
       "20433"
      ]
     },
     "execution_count": 7,
     "metadata": {},
     "output_type": "execute_result"
    }
   ],
   "source": [
    "len(df)"
   ]
  },
  {
   "cell_type": "code",
   "execution_count": 8,
   "id": "c9319749-0fcb-4fcf-8499-b4a258a41118",
   "metadata": {},
   "outputs": [
    {
     "data": {
      "text/plain": [
       "5"
      ]
     },
     "execution_count": 8,
     "metadata": {},
     "output_type": "execute_result"
    }
   ],
   "source": [
    "df.ocean_proximity.nunique()"
   ]
  },
  {
   "cell_type": "code",
   "execution_count": 9,
   "id": "abd799ad-fd6b-47ae-87a9-24847ac67fa3",
   "metadata": {},
   "outputs": [
    {
     "data": {
      "text/html": [
       "<div>\n",
       "<style scoped>\n",
       "    .dataframe tbody tr th:only-of-type {\n",
       "        vertical-align: middle;\n",
       "    }\n",
       "\n",
       "    .dataframe tbody tr th {\n",
       "        vertical-align: top;\n",
       "    }\n",
       "\n",
       "    .dataframe thead th {\n",
       "        text-align: right;\n",
       "    }\n",
       "</style>\n",
       "<table border=\"1\" class=\"dataframe\">\n",
       "  <thead>\n",
       "    <tr style=\"text-align: right;\">\n",
       "      <th></th>\n",
       "      <th>longitude</th>\n",
       "      <th>latitude</th>\n",
       "      <th>housing_median_age</th>\n",
       "      <th>total_rooms</th>\n",
       "      <th>total_bedrooms</th>\n",
       "      <th>population</th>\n",
       "      <th>households</th>\n",
       "      <th>median_income</th>\n",
       "      <th>median_house_value</th>\n",
       "      <th>ocean_proximity_INLAND</th>\n",
       "      <th>ocean_proximity_ISLAND</th>\n",
       "      <th>ocean_proximity_NEAR BAY</th>\n",
       "      <th>ocean_proximity_NEAR OCEAN</th>\n",
       "    </tr>\n",
       "  </thead>\n",
       "  <tbody>\n",
       "    <tr>\n",
       "      <th>0</th>\n",
       "      <td>-122.23</td>\n",
       "      <td>37.88</td>\n",
       "      <td>41.0</td>\n",
       "      <td>880.0</td>\n",
       "      <td>129.0</td>\n",
       "      <td>322.0</td>\n",
       "      <td>126.0</td>\n",
       "      <td>8.3252</td>\n",
       "      <td>452600.0</td>\n",
       "      <td>False</td>\n",
       "      <td>False</td>\n",
       "      <td>True</td>\n",
       "      <td>False</td>\n",
       "    </tr>\n",
       "    <tr>\n",
       "      <th>1</th>\n",
       "      <td>-122.22</td>\n",
       "      <td>37.86</td>\n",
       "      <td>21.0</td>\n",
       "      <td>7099.0</td>\n",
       "      <td>1106.0</td>\n",
       "      <td>2401.0</td>\n",
       "      <td>1138.0</td>\n",
       "      <td>8.3014</td>\n",
       "      <td>358500.0</td>\n",
       "      <td>False</td>\n",
       "      <td>False</td>\n",
       "      <td>True</td>\n",
       "      <td>False</td>\n",
       "    </tr>\n",
       "    <tr>\n",
       "      <th>2</th>\n",
       "      <td>-122.24</td>\n",
       "      <td>37.85</td>\n",
       "      <td>52.0</td>\n",
       "      <td>1467.0</td>\n",
       "      <td>190.0</td>\n",
       "      <td>496.0</td>\n",
       "      <td>177.0</td>\n",
       "      <td>7.2574</td>\n",
       "      <td>352100.0</td>\n",
       "      <td>False</td>\n",
       "      <td>False</td>\n",
       "      <td>True</td>\n",
       "      <td>False</td>\n",
       "    </tr>\n",
       "    <tr>\n",
       "      <th>3</th>\n",
       "      <td>-122.25</td>\n",
       "      <td>37.85</td>\n",
       "      <td>52.0</td>\n",
       "      <td>1274.0</td>\n",
       "      <td>235.0</td>\n",
       "      <td>558.0</td>\n",
       "      <td>219.0</td>\n",
       "      <td>5.6431</td>\n",
       "      <td>341300.0</td>\n",
       "      <td>False</td>\n",
       "      <td>False</td>\n",
       "      <td>True</td>\n",
       "      <td>False</td>\n",
       "    </tr>\n",
       "    <tr>\n",
       "      <th>4</th>\n",
       "      <td>-122.25</td>\n",
       "      <td>37.85</td>\n",
       "      <td>52.0</td>\n",
       "      <td>1627.0</td>\n",
       "      <td>280.0</td>\n",
       "      <td>565.0</td>\n",
       "      <td>259.0</td>\n",
       "      <td>3.8462</td>\n",
       "      <td>342200.0</td>\n",
       "      <td>False</td>\n",
       "      <td>False</td>\n",
       "      <td>True</td>\n",
       "      <td>False</td>\n",
       "    </tr>\n",
       "  </tbody>\n",
       "</table>\n",
       "</div>"
      ],
      "text/plain": [
       "   longitude  latitude  housing_median_age  total_rooms  total_bedrooms  \\\n",
       "0    -122.23     37.88                41.0        880.0           129.0   \n",
       "1    -122.22     37.86                21.0       7099.0          1106.0   \n",
       "2    -122.24     37.85                52.0       1467.0           190.0   \n",
       "3    -122.25     37.85                52.0       1274.0           235.0   \n",
       "4    -122.25     37.85                52.0       1627.0           280.0   \n",
       "\n",
       "   population  households  median_income  median_house_value  \\\n",
       "0       322.0       126.0         8.3252            452600.0   \n",
       "1      2401.0      1138.0         8.3014            358500.0   \n",
       "2       496.0       177.0         7.2574            352100.0   \n",
       "3       558.0       219.0         5.6431            341300.0   \n",
       "4       565.0       259.0         3.8462            342200.0   \n",
       "\n",
       "   ocean_proximity_INLAND  ocean_proximity_ISLAND  ocean_proximity_NEAR BAY  \\\n",
       "0                   False                   False                      True   \n",
       "1                   False                   False                      True   \n",
       "2                   False                   False                      True   \n",
       "3                   False                   False                      True   \n",
       "4                   False                   False                      True   \n",
       "\n",
       "   ocean_proximity_NEAR OCEAN  \n",
       "0                       False  \n",
       "1                       False  \n",
       "2                       False  \n",
       "3                       False  \n",
       "4                       False  "
      ]
     },
     "execution_count": 9,
     "metadata": {},
     "output_type": "execute_result"
    }
   ],
   "source": [
    "categorical_columns = df.select_dtypes(include=['object', 'category']).columns.tolist()\n",
    "encoded_data = pd.get_dummies(df, columns = categorical_columns, drop_first=True)\n",
    "encoded_data.head()"
   ]
  },
  {
   "cell_type": "markdown",
   "id": "735f1e56-c9d3-4844-8dfe-7f3925633194",
   "metadata": {},
   "source": [
    "#### Split Data:"
   ]
  },
  {
   "cell_type": "code",
   "execution_count": 11,
   "id": "9659ffa1-8987-4bc2-b435-56e09d59ee00",
   "metadata": {},
   "outputs": [],
   "source": [
    "X = encoded_data[['longitude', 'latitude', 'housing_median_age', 'total_rooms','total_bedrooms', 'population',\n",
    "                  'households', 'median_income', 'ocean_proximity_INLAND', 'ocean_proximity_ISLAND', \n",
    "                  'ocean_proximity_NEAR BAY', 'ocean_proximity_NEAR OCEAN']]\n",
    "y = encoded_data['median_house_value']\n",
    "X_train, X_test, y_train, y_test = train_test_split(X, y, test_size=0.2, random_state=42)"
   ]
  },
  {
   "cell_type": "markdown",
   "id": "90fe8b7b-816c-430f-82f0-d72274676e97",
   "metadata": {},
   "source": [
    "#### Train and evaluate multiple models with cross-validation"
   ]
  },
  {
   "cell_type": "code",
   "execution_count": 13,
   "id": "6da869df-8732-458b-9365-a7376f2fb0ba",
   "metadata": {},
   "outputs": [
    {
     "name": "stdout",
     "output_type": "stream",
     "text": [
      "Linear Regression: MSE = 4802173538.6041565, CV MSE = 4732715571.3800535\n",
      "Ridge Regression: MSE = 4800270015.928118, CV MSE = 4732447896.912088\n",
      "Lasso Regression: MSE = 4802008698.9068, CV MSE = 4732687090.677056\n",
      "Random Forest: MSE = 2378317289.567475, CV MSE = 2434356373.9637837\n",
      "Gradient Boosting: MSE = 3199648337.5456276, CV MSE = 3045565143.806124\n",
      "Best Model: RandomForestRegressor(random_state=42)\n"
     ]
    }
   ],
   "source": [
    "models = {\n",
    "    \"Linear Regression\": LinearRegression(),\n",
    "    \"Ridge Regression\": Ridge(alpha=0.2),  # Adjust alpha as needed\n",
    "    \"Lasso Regression\": Lasso(alpha=0.2),  # Adjust alpha as needed\n",
    "    \"Random Forest\": RandomForestRegressor(random_state=42),\n",
    "    \"Gradient Boosting\": GradientBoostingRegressor(random_state=42)\n",
    "}\n",
    "\n",
    "best_model = None\n",
    "best_mse = float('inf')\n",
    "best_cv_mse = float('inf')\n",
    "results = []\n",
    "\n",
    "for model_name, model in models.items():\n",
    "    mse, cv_mse, mae, r2 = train_and_evaluate_(model, X_train, y_train, X_test, y_test)\n",
    "    results.append({'Model': model_name, 'MSE': mse, 'CV MSE': cv_mse, 'MAE': mae, 'R-Squard': round(r2, 2)})\n",
    "    print(f\"{model_name}: MSE = {mse}, CV MSE = {cv_mse}\")\n",
    "    if cv_mse < best_cv_mse:\n",
    "        best_model = model\n",
    "        best_mse = mse\n",
    "        best_cv_mse = cv_mse\n",
    "\n",
    "print(\"Best Model:\", best_model)"
   ]
  },
  {
   "cell_type": "code",
   "execution_count": 14,
   "id": "72d7be74-4115-47be-858d-ea560419611c",
   "metadata": {},
   "outputs": [
    {
     "data": {
      "text/html": [
       "<div>\n",
       "<style scoped>\n",
       "    .dataframe tbody tr th:only-of-type {\n",
       "        vertical-align: middle;\n",
       "    }\n",
       "\n",
       "    .dataframe tbody tr th {\n",
       "        vertical-align: top;\n",
       "    }\n",
       "\n",
       "    .dataframe thead th {\n",
       "        text-align: right;\n",
       "    }\n",
       "</style>\n",
       "<table border=\"1\" class=\"dataframe\">\n",
       "  <thead>\n",
       "    <tr style=\"text-align: right;\">\n",
       "      <th></th>\n",
       "      <th>Model</th>\n",
       "      <th>MSE</th>\n",
       "      <th>CV MSE</th>\n",
       "      <th>MAE</th>\n",
       "      <th>R-Squard</th>\n",
       "    </tr>\n",
       "  </thead>\n",
       "  <tbody>\n",
       "    <tr>\n",
       "      <th>0</th>\n",
       "      <td>Linear Regression</td>\n",
       "      <td>4.802174e+09</td>\n",
       "      <td>4.732716e+09</td>\n",
       "      <td>50413.433308</td>\n",
       "      <td>0.65</td>\n",
       "    </tr>\n",
       "    <tr>\n",
       "      <th>1</th>\n",
       "      <td>Ridge Regression</td>\n",
       "      <td>4.800270e+09</td>\n",
       "      <td>4.732448e+09</td>\n",
       "      <td>50407.863822</td>\n",
       "      <td>0.65</td>\n",
       "    </tr>\n",
       "    <tr>\n",
       "      <th>2</th>\n",
       "      <td>Lasso Regression</td>\n",
       "      <td>4.802009e+09</td>\n",
       "      <td>4.732687e+09</td>\n",
       "      <td>50412.962090</td>\n",
       "      <td>0.65</td>\n",
       "    </tr>\n",
       "    <tr>\n",
       "      <th>3</th>\n",
       "      <td>Random Forest</td>\n",
       "      <td>2.378317e+09</td>\n",
       "      <td>2.434356e+09</td>\n",
       "      <td>31677.918808</td>\n",
       "      <td>0.83</td>\n",
       "    </tr>\n",
       "    <tr>\n",
       "      <th>4</th>\n",
       "      <td>Gradient Boosting</td>\n",
       "      <td>3.199648e+09</td>\n",
       "      <td>3.045565e+09</td>\n",
       "      <td>39267.120388</td>\n",
       "      <td>0.77</td>\n",
       "    </tr>\n",
       "  </tbody>\n",
       "</table>\n",
       "</div>"
      ],
      "text/plain": [
       "               Model           MSE        CV MSE           MAE  R-Squard\n",
       "0  Linear Regression  4.802174e+09  4.732716e+09  50413.433308      0.65\n",
       "1   Ridge Regression  4.800270e+09  4.732448e+09  50407.863822      0.65\n",
       "2   Lasso Regression  4.802009e+09  4.732687e+09  50412.962090      0.65\n",
       "3      Random Forest  2.378317e+09  2.434356e+09  31677.918808      0.83\n",
       "4  Gradient Boosting  3.199648e+09  3.045565e+09  39267.120388      0.77"
      ]
     },
     "execution_count": 14,
     "metadata": {},
     "output_type": "execute_result"
    }
   ],
   "source": [
    "# Create a DataFrame from the results\n",
    "df_results = pd.DataFrame(results)\n",
    "df_results"
   ]
  },
  {
   "cell_type": "markdown",
   "id": "96feec2f-c55d-486d-a17c-dff59740f70f",
   "metadata": {},
   "source": [
    "#### Training with the best model"
   ]
  },
  {
   "cell_type": "code",
   "execution_count": 26,
   "id": "2c6502e2-afdc-4cf5-8a43-be4d4db142eb",
   "metadata": {},
   "outputs": [
    {
     "data": {
      "text/html": [
       "<div>\n",
       "<style scoped>\n",
       "    .dataframe tbody tr th:only-of-type {\n",
       "        vertical-align: middle;\n",
       "    }\n",
       "\n",
       "    .dataframe tbody tr th {\n",
       "        vertical-align: top;\n",
       "    }\n",
       "\n",
       "    .dataframe thead th {\n",
       "        text-align: right;\n",
       "    }\n",
       "</style>\n",
       "<table border=\"1\" class=\"dataframe\">\n",
       "  <thead>\n",
       "    <tr style=\"text-align: right;\">\n",
       "      <th></th>\n",
       "      <th>Features</th>\n",
       "      <th>Importance</th>\n",
       "      <th>Cummulative_Importance</th>\n",
       "    </tr>\n",
       "  </thead>\n",
       "  <tbody>\n",
       "    <tr>\n",
       "      <th>7</th>\n",
       "      <td>median_income</td>\n",
       "      <td>0.485142</td>\n",
       "      <td>0.49</td>\n",
       "    </tr>\n",
       "    <tr>\n",
       "      <th>8</th>\n",
       "      <td>ocean_proximity_INLAND</td>\n",
       "      <td>0.142842</td>\n",
       "      <td>0.63</td>\n",
       "    </tr>\n",
       "    <tr>\n",
       "      <th>0</th>\n",
       "      <td>longitude</td>\n",
       "      <td>0.109385</td>\n",
       "      <td>0.74</td>\n",
       "    </tr>\n",
       "    <tr>\n",
       "      <th>1</th>\n",
       "      <td>latitude</td>\n",
       "      <td>0.104899</td>\n",
       "      <td>0.84</td>\n",
       "    </tr>\n",
       "    <tr>\n",
       "      <th>2</th>\n",
       "      <td>housing_median_age</td>\n",
       "      <td>0.050458</td>\n",
       "      <td>0.89</td>\n",
       "    </tr>\n",
       "    <tr>\n",
       "      <th>5</th>\n",
       "      <td>population</td>\n",
       "      <td>0.032718</td>\n",
       "      <td>0.93</td>\n",
       "    </tr>\n",
       "    <tr>\n",
       "      <th>3</th>\n",
       "      <td>total_rooms</td>\n",
       "      <td>0.023751</td>\n",
       "      <td>0.95</td>\n",
       "    </tr>\n",
       "    <tr>\n",
       "      <th>4</th>\n",
       "      <td>total_bedrooms</td>\n",
       "      <td>0.021996</td>\n",
       "      <td>0.97</td>\n",
       "    </tr>\n",
       "    <tr>\n",
       "      <th>6</th>\n",
       "      <td>households</td>\n",
       "      <td>0.018917</td>\n",
       "      <td>0.99</td>\n",
       "    </tr>\n",
       "    <tr>\n",
       "      <th>11</th>\n",
       "      <td>ocean_proximity_NEAR OCEAN</td>\n",
       "      <td>0.008189</td>\n",
       "      <td>1.00</td>\n",
       "    </tr>\n",
       "    <tr>\n",
       "      <th>10</th>\n",
       "      <td>ocean_proximity_NEAR BAY</td>\n",
       "      <td>0.001384</td>\n",
       "      <td>1.00</td>\n",
       "    </tr>\n",
       "    <tr>\n",
       "      <th>9</th>\n",
       "      <td>ocean_proximity_ISLAND</td>\n",
       "      <td>0.000318</td>\n",
       "      <td>1.00</td>\n",
       "    </tr>\n",
       "  </tbody>\n",
       "</table>\n",
       "</div>"
      ],
      "text/plain": [
       "                      Features  Importance  Cummulative_Importance\n",
       "7                median_income    0.485142                    0.49\n",
       "8       ocean_proximity_INLAND    0.142842                    0.63\n",
       "0                    longitude    0.109385                    0.74\n",
       "1                     latitude    0.104899                    0.84\n",
       "2           housing_median_age    0.050458                    0.89\n",
       "5                   population    0.032718                    0.93\n",
       "3                  total_rooms    0.023751                    0.95\n",
       "4               total_bedrooms    0.021996                    0.97\n",
       "6                   households    0.018917                    0.99\n",
       "11  ocean_proximity_NEAR OCEAN    0.008189                    1.00\n",
       "10    ocean_proximity_NEAR BAY    0.001384                    1.00\n",
       "9       ocean_proximity_ISLAND    0.000318                    1.00"
      ]
     },
     "execution_count": 26,
     "metadata": {},
     "output_type": "execute_result"
    }
   ],
   "source": [
    "rf_model = RandomForestRegressor(random_state=42)\n",
    "mse, cv_mse, mae, r2 = train_and_evaluate_(rf_model, X_train, y_train, X_test, y_test)\n",
    "\n",
    "imp_feature = rf_model.feature_importances_\n",
    "imp_df = pd.DataFrame({\n",
    "    \"Features\": X_train.columns,\n",
    "    \"Importance\": imp_feature\n",
    "}).sort_values(by='Importance', ascending=False)\n",
    "\n",
    "imp_df['Cummulative_Importance'] = imp_df['Importance'].cumsum().round(2)\n",
    "imp_df"
   ]
  },
  {
   "cell_type": "code",
   "execution_count": 32,
   "id": "72b0b4a1-7044-4874-8e14-f9ec073fe7a6",
   "metadata": {},
   "outputs": [
    {
     "name": "stdout",
     "output_type": "stream",
     "text": [
      "MSE: 2378317289.57, CV MSE: 2434356373.96, MAE: 31677.92, R2: 0.83\n"
     ]
    }
   ],
   "source": [
    "print(f\"MSE: {round(mse, 2):.2f}, CV MSE: {round(cv_mse, 2):.2f}, MAE: {round(mae, 2):.2f}, R2: {round(r2, 2):.2f}\")"
   ]
  },
  {
   "cell_type": "markdown",
   "id": "44f6d73a-8e9c-479b-85cd-79742c7ab164",
   "metadata": {},
   "source": [
    "We can see from the above that with less features we are able to still achieve an 82% explainablty of the variability in the median house value."
   ]
  },
  {
   "cell_type": "markdown",
   "id": "3208acd8-1a9b-4629-9372-2d1e9ece4eb1",
   "metadata": {},
   "source": [
    "#### Storing the Best Model:"
   ]
  },
  {
   "cell_type": "code",
   "execution_count": 35,
   "id": "11be22dc-851a-40c8-a17e-fd745d11a4d5",
   "metadata": {},
   "outputs": [],
   "source": [
    "# Store the best model to a file\n",
    "with open('best_model.pkl', 'wb') as f:\n",
    "    pickle.dump(rf_model, f)"
   ]
  },
  {
   "cell_type": "markdown",
   "id": "60588300-9eb9-4a78-9973-04009bbcee7d",
   "metadata": {},
   "source": [
    "#### Load the best model from the file"
   ]
  },
  {
   "cell_type": "code",
   "execution_count": 38,
   "id": "3825fdff-4d41-439a-8e56-da3cb5e8e19b",
   "metadata": {},
   "outputs": [],
   "source": [
    "# Load the best model from the file\n",
    "with open('best_model.pkl', 'rb') as f:\n",
    "    loaded_model = pickle.load(f)"
   ]
  },
  {
   "cell_type": "code",
   "execution_count": 40,
   "id": "e121815e-f4c7-43c2-ad00-5586b202f0aa",
   "metadata": {},
   "outputs": [
    {
     "data": {
      "text/html": [
       "<div>\n",
       "<style scoped>\n",
       "    .dataframe tbody tr th:only-of-type {\n",
       "        vertical-align: middle;\n",
       "    }\n",
       "\n",
       "    .dataframe tbody tr th {\n",
       "        vertical-align: top;\n",
       "    }\n",
       "\n",
       "    .dataframe thead th {\n",
       "        text-align: right;\n",
       "    }\n",
       "</style>\n",
       "<table border=\"1\" class=\"dataframe\">\n",
       "  <thead>\n",
       "    <tr style=\"text-align: right;\">\n",
       "      <th></th>\n",
       "      <th>longitude</th>\n",
       "      <th>latitude</th>\n",
       "      <th>housing_median_age</th>\n",
       "      <th>total_rooms</th>\n",
       "      <th>total_bedrooms</th>\n",
       "      <th>population</th>\n",
       "      <th>households</th>\n",
       "      <th>median_income</th>\n",
       "      <th>ocean_proximity_INLAND</th>\n",
       "      <th>ocean_proximity_ISLAND</th>\n",
       "      <th>ocean_proximity_NEAR BAY</th>\n",
       "      <th>ocean_proximity_NEAR OCEAN</th>\n",
       "    </tr>\n",
       "  </thead>\n",
       "  <tbody>\n",
       "    <tr>\n",
       "      <th>14416</th>\n",
       "      <td>-117.24</td>\n",
       "      <td>32.79</td>\n",
       "      <td>20.0</td>\n",
       "      <td>961.0</td>\n",
       "      <td>278.0</td>\n",
       "      <td>525.0</td>\n",
       "      <td>254.0</td>\n",
       "      <td>3.1838</td>\n",
       "      <td>False</td>\n",
       "      <td>False</td>\n",
       "      <td>False</td>\n",
       "      <td>True</td>\n",
       "    </tr>\n",
       "    <tr>\n",
       "      <th>16383</th>\n",
       "      <td>-121.29</td>\n",
       "      <td>38.01</td>\n",
       "      <td>2.0</td>\n",
       "      <td>6403.0</td>\n",
       "      <td>1116.0</td>\n",
       "      <td>3327.0</td>\n",
       "      <td>957.0</td>\n",
       "      <td>4.4871</td>\n",
       "      <td>True</td>\n",
       "      <td>False</td>\n",
       "      <td>False</td>\n",
       "      <td>False</td>\n",
       "    </tr>\n",
       "    <tr>\n",
       "      <th>7731</th>\n",
       "      <td>-118.14</td>\n",
       "      <td>33.92</td>\n",
       "      <td>31.0</td>\n",
       "      <td>3731.0</td>\n",
       "      <td>853.0</td>\n",
       "      <td>2313.0</td>\n",
       "      <td>801.0</td>\n",
       "      <td>3.2237</td>\n",
       "      <td>False</td>\n",
       "      <td>False</td>\n",
       "      <td>False</td>\n",
       "      <td>False</td>\n",
       "    </tr>\n",
       "    <tr>\n",
       "      <th>1410</th>\n",
       "      <td>-122.07</td>\n",
       "      <td>37.94</td>\n",
       "      <td>30.0</td>\n",
       "      <td>1260.0</td>\n",
       "      <td>276.0</td>\n",
       "      <td>707.0</td>\n",
       "      <td>221.0</td>\n",
       "      <td>2.8920</td>\n",
       "      <td>False</td>\n",
       "      <td>False</td>\n",
       "      <td>True</td>\n",
       "      <td>False</td>\n",
       "    </tr>\n",
       "    <tr>\n",
       "      <th>1335</th>\n",
       "      <td>-121.89</td>\n",
       "      <td>37.99</td>\n",
       "      <td>4.0</td>\n",
       "      <td>2171.0</td>\n",
       "      <td>597.0</td>\n",
       "      <td>928.0</td>\n",
       "      <td>461.0</td>\n",
       "      <td>4.1016</td>\n",
       "      <td>True</td>\n",
       "      <td>False</td>\n",
       "      <td>False</td>\n",
       "      <td>False</td>\n",
       "    </tr>\n",
       "  </tbody>\n",
       "</table>\n",
       "</div>"
      ],
      "text/plain": [
       "       longitude  latitude  housing_median_age  total_rooms  total_bedrooms  \\\n",
       "14416    -117.24     32.79                20.0        961.0           278.0   \n",
       "16383    -121.29     38.01                 2.0       6403.0          1116.0   \n",
       "7731     -118.14     33.92                31.0       3731.0           853.0   \n",
       "1410     -122.07     37.94                30.0       1260.0           276.0   \n",
       "1335     -121.89     37.99                 4.0       2171.0           597.0   \n",
       "\n",
       "       population  households  median_income  ocean_proximity_INLAND  \\\n",
       "14416       525.0       254.0         3.1838                   False   \n",
       "16383      3327.0       957.0         4.4871                    True   \n",
       "7731       2313.0       801.0         3.2237                   False   \n",
       "1410        707.0       221.0         2.8920                   False   \n",
       "1335        928.0       461.0         4.1016                    True   \n",
       "\n",
       "       ocean_proximity_ISLAND  ocean_proximity_NEAR BAY  \\\n",
       "14416                   False                     False   \n",
       "16383                   False                     False   \n",
       "7731                    False                     False   \n",
       "1410                    False                      True   \n",
       "1335                    False                     False   \n",
       "\n",
       "       ocean_proximity_NEAR OCEAN  \n",
       "14416                        True  \n",
       "16383                       False  \n",
       "7731                        False  \n",
       "1410                        False  \n",
       "1335                        False  "
      ]
     },
     "execution_count": 40,
     "metadata": {},
     "output_type": "execute_result"
    }
   ],
   "source": [
    "X_test.head()"
   ]
  },
  {
   "cell_type": "code",
   "execution_count": 42,
   "id": "6102662d-5a20-4cf2-8869-a00ce3d69ff8",
   "metadata": {},
   "outputs": [
    {
     "data": {
      "text/plain": [
       "14416    245800.0\n",
       "16383    137900.0\n",
       "7731     218200.0\n",
       "1410     220800.0\n",
       "1335     170500.0\n",
       "Name: median_house_value, dtype: float64"
      ]
     },
     "execution_count": 42,
     "metadata": {},
     "output_type": "execute_result"
    }
   ],
   "source": [
    "y_test.head()"
   ]
  },
  {
   "cell_type": "code",
   "execution_count": 44,
   "id": "241f0c9b-52db-4318-a26d-97b7ac7849d5",
   "metadata": {},
   "outputs": [],
   "source": [
    "# Use the loaded model to make predictions on new data\n",
    "new_data = X_test\n",
    "predictions = loaded_model.predict(new_data)"
   ]
  },
  {
   "cell_type": "code",
   "execution_count": 46,
   "id": "d5af57fa-ce17-422f-9a1e-ef469882334e",
   "metadata": {},
   "outputs": [
    {
     "data": {
      "text/plain": [
       "array([217892., 151202., 189054., ...,  86718., 108478., 117344.])"
      ]
     },
     "execution_count": 46,
     "metadata": {},
     "output_type": "execute_result"
    }
   ],
   "source": [
    "predictions"
   ]
  },
  {
   "cell_type": "code",
   "execution_count": 50,
   "id": "f2df967a-21cf-47ef-a677-a6822e6ff1c2",
   "metadata": {},
   "outputs": [
    {
     "data": {
      "image/png": "[encoded data removed]",
      "text/plain": [
       "<Figure size 640x480 with 1 Axes>"
      ]
     },
     "metadata": {},
     "output_type": "display_data"
    }
   ],
   "source": [
    "import matplotlib.pyplot as plt\n",
    "\n",
    "y_true = y_test\n",
    "# Assuming you have your actual values in y_true and predicted values in y_pred\n",
    "\n",
    "# Create a scatter plot\n",
    "plt.scatter(y_true, predictions, alpha=0.7)\n",
    "\n",
    "# Add labels and title\n",
    "plt.xlabel(\"Actual Values\")\n",
    "plt.ylabel(\"Predicted Values\")\n",
    "plt.title(\"Actual vs. Predicted Values\")\n",
    "\n",
    "# Add a diagonal line representing perfect prediction\n",
    "plt.plot([min(y_true), max(y_true)], [min(y_true), max(y_true)], 'r--', label=\"Perfect Prediction\")\n",
    "\n",
    "# Show the plot\n",
    "plt.legend()\n",
    "plt.show()"
   ]
  },
  {
   "cell_type": "markdown",
   "id": "458ae6e0-df99-4ae5-a4a2-598cf4f79acb",
   "metadata": {},
   "source": [
    "#### A Custom Predict Function"
   ]
  },
  {
   "cell_type": "code",
   "execution_count": 65,
   "id": "bb22a5b9-81df-4da1-b88e-564870feba9a",
   "metadata": {},
   "outputs": [],
   "source": [
    "# Load the saved model\n",
    "def load_model():\n",
    "    \"\"\"Loads the best model from the specified pickle file.\"\"\"\n",
    "    with open('best_model.pkl', 'rb') as f:\n",
    "        loaded_model = pickle.load(f)\n",
    "    return loaded_model\n",
    "\n",
    "# Load the model outside the Flask app\n",
    "loaded_model = load_model()\n",
    "\n",
    "def predict(longitude, latitude, housing_median_age, total_rooms, total_bedrooms, population, households, median_income, ocean_proximity):\n",
    "    # Create a DataFrame with the input features\n",
    "\n",
    "    data = {\n",
    "        'longitude': longitude,\n",
    "        'latitude': latitude,\n",
    "        'housing_median_age': housing_median_age,\n",
    "        'total_rooms': total_rooms,\n",
    "        'total_bedrooms': total_bedrooms,\n",
    "        'population': population,\n",
    "        'households': households,\n",
    "        'median_income': median_income,\n",
    "        'ocean_proximity': ocean_proximity\n",
    "        }\n",
    "    \n",
    "    data = pd.DataFrame(data, index=[0])\n",
    "    categorical_columns = data.select_dtypes(include=['object', 'category']).columns.tolist()\n",
    "    \n",
    "    # Create dummy variables for the categorical feature\n",
    "    data = pd.get_dummies(data, columns=categorical_columns)\n",
    "    \n",
    "    # Ensure that the input DataFrame has the same columns as the training data\n",
    "    model_columns = loaded_model.feature_names_in_\n",
    "    input_data = data.reindex(columns=model_columns, fill_value=False)\n",
    "\n",
    "    # Predict the outcome using the saved model\n",
    "    prediction = loaded_model.predict(input_data)[0]\n",
    "    return prediction"
   ]
  },
  {
   "cell_type": "code",
   "execution_count": 59,
   "id": "0e18f2b0-af7d-4973-b9b6-febcc4c81015",
   "metadata": {},
   "outputs": [
    {
     "data": {
      "text/plain": [
       "longitude                    -117.24\n",
       "latitude                       32.79\n",
       "housing_median_age              20.0\n",
       "total_rooms                    961.0\n",
       "total_bedrooms                 278.0\n",
       "population                     525.0\n",
       "households                     254.0\n",
       "median_income                 3.1838\n",
       "ocean_proximity_INLAND         False\n",
       "ocean_proximity_ISLAND         False\n",
       "ocean_proximity_NEAR BAY       False\n",
       "ocean_proximity_NEAR OCEAN      True\n",
       "Name: 14416, dtype: object"
      ]
     },
     "execution_count": 59,
     "metadata": {},
     "output_type": "execute_result"
    }
   ],
   "source": [
    " X_test.iloc[0, :]"
   ]
  },
  {
   "cell_type": "code",
   "execution_count": 67,
   "id": "eba01420-c117-4bf8-bedf-3d7ea0bb9f9f",
   "metadata": {},
   "outputs": [
    {
     "name": "stdout",
     "output_type": "stream",
     "text": [
      "Predicted outcome: 217892.0\n"
     ]
    }
   ],
   "source": [
    "# Example usage\n",
    "result = predict(-117.24,32.79, 20.0, 961.0, 278.0, 525.0, 254.0, 3.1838, 'NEAR OCEAN')\n",
    "print(\"Predicted outcome:\", result) # predicted Y"
   ]
  },
  {
   "cell_type": "code",
   "execution_count": 71,
   "id": "1d4e6a82-33c2-4b04-b6c9-931dc25eab9b",
   "metadata": {},
   "outputs": [
    {
     "data": {
      "text/plain": [
       "452600.0"
      ]
     },
     "execution_count": 71,
     "metadata": {},
     "output_type": "execute_result"
    }
   ],
   "source": [
    "y_test[0] # actual Y"
   ]
  },
  {
   "cell_type": "code",
   "execution_count": null,
   "id": "f1cb7f9f-7d70-41ae-a6a1-83f624dcb1a7",
   "metadata": {},
   "outputs": [],
   "source": [
    "import pandas as pd\n",
    "import matplotlib.pyplot as plt\n",
    "import seaborn as sns\n",
    "\n",
    "# Load training and live data (replace with your actual paths)\n",
    "training_data = pd.read_csv(\"training_data.csv\")\n",
    "live_data = pd.read_csv(\"live_data.csv\")\n",
    "\n",
    "# Calculate statistical metrics (adjust as needed)\n",
    "def calculate_stats(df):\n",
    "  return {\n",
    "    'mean': df.mean(),\n",
    "    'median': df.median(),\n",
    "    'std': df.std(),\n",
    "    'min': df.min(),\n",
    "    'max': df.max(),\n",
    "    'quantile_25': df.quantile(0.25),\n",
    "    'quantile_75': df.quantile(0.75)\n",
    "  }\n",
    "\n",
    "training_stats = calculate_stats(training_data)\n",
    "live_stats = calculate_stats(live_data)\n",
    "\n",
    "# Compare metrics\n",
    "for column in training_data.columns:\n",
    "  print(f\"\\nColumn: {column}\")\n",
    "  print(\"Training Data:\")\n",
    "  print(training_stats[column])\n",
    "  print(\"Live Data:\")\n",
    "  print(live_stats[column])\n",
    "\n",
    "  # Visualize differences (optional)\n",
    "  plt.figure(figsize=(10, 5))\n",
    "  sns.distplot(training_data[column], label=\"Training Data\")\n",
    "  sns.distplot(live_data[column], label=\"Live Data\")\n",
    "  plt.title(f\"Distribution of {column}\")\n",
    "  plt.legend()\n",
    "  plt.show()"
   ]
  }
 ],
 "metadata": {
  "kernelspec": {
   "display_name": "Python 3 (ipykernel)",
   "language": "python",
   "name": "python3"
  },
  "language_info": {
   "codemirror_mode": {
    "name": "ipython",
    "version": 3
   },
   "file_extension": ".py",
   "mimetype": "text/x-python",
   "name": "python",
   "nbconvert_exporter": "python",
   "pygments_lexer": "ipython3",
   "version": "3.12.4"
  }
 },
 "nbformat": 4,
 "nbformat_minor": 5
}
